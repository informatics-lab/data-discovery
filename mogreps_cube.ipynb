{
 "cells": [
  {
   "cell_type": "markdown",
   "metadata": {},
   "source": [
    "# Mogreps hyper-cube:\n",
    "\n",
    "We will try make a cube that represents all of the mogreps-uk data (for one parameter: `surface_air_pressure`) for 2013. The data is stored on a public S3 bucket `mogreps-uk`. We have mounted that bucket using a FUSE file systems. The data is accessable via the filesystem path `/s3/mogreps-uk/`. We will use `surface_air_pressure` as some of the other parameters like `air_temperature` are more complicated/messy (see accompanying blog post).\n",
    "\n",
    "Inspecting/knowlage of the data set reveals:\n",
    "\n",
    "    Models run at 03 and 09\n",
    "\n",
    "    Is a lagged ensamble:\n",
    "    03 run has realisations/members 00 - 11\n",
    "    09 run has realisations/members 00 and 12 - 22\n",
    "\n",
    "    Forecast period:\n",
    "    +0 to +36\n",
    "    Split in to files with three one hour time steps per file except the first which has four one hour time steps."
   ]
  },
  {
   "cell_type": "code",
   "execution_count": 1,
   "metadata": {},
   "outputs": [],
   "source": [
    "import iris\n",
    "import os\n",
    "import warnings\n",
    "from cf_units import Unit\n",
    "from calendar import monthrange\n",
    "from collections import namedtuple\n",
    "import dask.array as da\n",
    "import netCDF4\n",
    "import numpy as np\n",
    "from functools import reduce\n",
    "\n",
    "BASE_PATH = '/s3/mogreps-uk/'"
   ]
  },
  {
   "cell_type": "markdown",
   "metadata": {},
   "source": [
    "First we create our proxy class. This is an object that looks like a nd-array but deferes accessing the data until a calculation is requests.\n",
    "Additionally our implementation will handle the case that the data or file doesn't exist or look as expected and return missing/fill data for that request."
   ]
  },
  {
   "cell_type": "code",
   "execution_count": 2,
   "metadata": {},
   "outputs": [],
   "source": [
    "# Based on `iris.fileformats.netcdf.NetCDFDataProxy - https://github.com/SciTools/iris/blob/v2.1.0/lib/iris/fileformats/netcdf.py#L374\n",
    "class CheckingNetCDFDataProxy(object):\n",
    "    \"\"\"A reference to the data payload of a single NetCDF file variable.\"\"\"\n",
    "\n",
    "    def __init__(self, shape, dtype, path, variable_name, fill_value, do_safety_check=False):\n",
    "        self.safety_check_done = do_safety_check\n",
    "        self.shape = shape\n",
    "        self.dtype = dtype\n",
    "        self.path = path\n",
    "        self.variable_name = variable_name\n",
    "        self.fill_value = fill_value\n",
    "        self.fatal_fail = None\n",
    "\n",
    "    @property\n",
    "    def ndim(self):\n",
    "        return len(self.shape)\n",
    "\n",
    "    def check(self):\n",
    "        # This check runs one on first data access. If the check doesn't think the data in the file is that that was expected when the object was created\n",
    "        # or the file is missing the check 'fails' and all future data request will return masked data.\n",
    "        try:\n",
    "            dataset = netCDF4.Dataset(self.path)\n",
    "        except OSError:\n",
    "            self.fatal_fail = \"no such file %s\" % self.path\n",
    "            self.safety_check_done = True\n",
    "            return\n",
    "        \n",
    "        try:\n",
    "            variable = dataset.variables[self.variable_name]\n",
    "        except KeyError:\n",
    "            self.fatal_fail = \"no variable %s in file %s\" % (self.variable_name, self.path)\n",
    "            self.safety_check_done = True\n",
    "            return\n",
    "\n",
    "        if list(variable.shape) != list(self.shape):\n",
    "            self.fatal_fail = \"Shape of data %s doesn't match expected %s\" %(variable.shape, self.shape)\n",
    "            self.safety_check_done = True\n",
    "            return\n",
    "        \n",
    "        # TODO: check variable attributes/dims/etc? This check is very basic/simple further checking could be done but may come at a cost.\n",
    "        \n",
    "        self.safety_check_done = True\n",
    "        \n",
    "        \n",
    "    def  _null_data(self, keys):\n",
    "        # Return fill data in the correct shape\n",
    "        \n",
    "        null_data = np.ones(self.shape)[keys] * self.fill_value\n",
    "        return null_data\n",
    "        \n",
    "    def __getitem__(self, keys):\n",
    "        # Get some data. Do the safety check first and any issues return fill value data.\n",
    "        \n",
    "        if not self.safety_check_done:\n",
    "            self.check()\n",
    "            \n",
    "        if self.fatal_fail:\n",
    "            return self._null_data(keys)\n",
    "            \n",
    "        try:\n",
    "            dataset = netCDF4.Dataset(self.path)\n",
    "            variable = dataset.variables[self.variable_name]\n",
    "            # Get the NetCDF variable data and slice.\n",
    "            var = variable[keys]\n",
    "        finally:\n",
    "            if dataset:\n",
    "                dataset.close()\n",
    "        return np.asanyarray(var)"
   ]
  },
  {
   "cell_type": "code",
   "execution_count": 6,
   "metadata": {},
   "outputs": [
    {
     "name": "stdout",
     "output_type": "stream",
     "text": [
      "CPU times: user 1min 44s, sys: 1.05 s, total: 1min 46s\n",
      "Wall time: 1min 45s\n"
     ]
    }
   ],
   "source": [
    "%%time\n",
    "# This cell currently takes a couple of minutes on first run. It's not clear why.\n",
    "\n",
    "\n",
    "VAR_NAME = 'surface_air_pressure'\n",
    "grid_latitude_len = 548\n",
    "grid_longitude_len = 421\n",
    "\n",
    "# Given a year return all the model runs in that year as RunDate objects.\n",
    "RunDate = namedtuple('RunDate',['year','month','day','hour'])\n",
    "def runs(years):\n",
    "    for year in years:\n",
    "        for month in range(1,12):\n",
    "            for day in range(1,monthrange(year,month)[1] +1):\n",
    "                for hour in (3,9):\n",
    "                    yield RunDate(year,month,day,hour)\n",
    "\n",
    "def build_lazy_masked_array(shape, filepath, var):\n",
    "    fill = 1e20\n",
    "    proxy = CheckingNetCDFDataProxy(shape=shape,  dtype='float32', # TODO: Don't assuming float32?\n",
    "                                path=filepath, variable_name=VAR_NAME,\n",
    "                                fill_value = fill)\n",
    "    lazy_array = da.from_array(proxy, shape)\n",
    "    masked_array = da.ma.masked_equal(lazy_array, fill)\n",
    "    return masked_array\n",
    "\n",
    "def build_proxy_array_for_time_step(file_details):\n",
    "    year, month, day, run_hr, realisation, time_step = file_details\n",
    "    file_tpl = \"/s3/mogreps-uk/prods_op_mogreps-uk_{year:d}{month:02d}{day:02d}_{run_hr:02d}_{realisation:02d}_{time_step:03d}.nc\"\n",
    "    grid_latitude_len = 548\n",
    "    grid_longitude_len = 421\n",
    "    \n",
    "    num_steps_in_file = 4 if run_hr == 3 else 4 # First file in a run has an extra timestep\n",
    "    forecast_periods = list(range(time_step, time_step+num_steps_in_file))\n",
    "    filepath = file_tpl.format(year=year, month=month, day=day, run_hr=run_hr, realisation=realisation, time_step=time_step)\n",
    "\n",
    "    # This is the shape our fundemental chunks i.e. the data inside our files. \n",
    "    shape=(len(forecast_periods), grid_latitude_len, grid_longitude_len)\n",
    "\n",
    "    return build_lazy_masked_array(shape, filepath, VAR_NAME)\n",
    "\n",
    "def build_data_array():\n",
    "    # Build a lazy nd-array that will underpin our hyper-cube\n",
    "    # Shape will be (realisations, runs, timesteps, lat, lon)\n",
    "    # We loop through these dimensions from outside in until we get to our bottom fundemental chunk, a file in this case.\n",
    "    \n",
    "    file_tpl = \"/s3/mogreps-uk/prods_op_mogreps-uk_{year:d}{month:02d}{day:02d}_{run:02d}_{realisation:02d}_{step:03d}.nc\"\n",
    "    realisations = range(0,22+1)\n",
    "    \n",
    "    realisation_collection = [] # each loop collects the data arrays from each iteration so that they can be joined when the loop closes/completes \n",
    "    for realisation in realisations:\n",
    "        \n",
    "        runs_collection = []\n",
    "        for year, month, day, run in runs(2013):\n",
    "            \n",
    "#             timestep_collection = []\n",
    "            \n",
    "            \n",
    "            files_in_run = ((year, month, day, run, realisation, step) for step in range(3,36+1,3))\n",
    "#             rd = map(build_proxy_array_for_time_step, files_in_run)\n",
    "#             print(rd)\n",
    "#             assert  1== 2\n",
    "            run_data = da.concatenate(list(map(build_proxy_array_for_time_step, files_in_run)), 0)\n",
    "            \n",
    "            runs_collection.append(run_data)\n",
    "#             for step in range(3,36+1,3):\n",
    "#                 # Inside our most loop we build our proxy's for our fundemental chunks, a single file. \n",
    "                \n",
    "                \n",
    "                \n",
    "#                 ref_time = (year,month,day,run)\n",
    "#                 forecast_periods = list(range(step,step+3))\n",
    "#                 if step == 3:\n",
    "#                     forecast_periods = list(range(step,step+4)) # First file in a run has an extra timestep\n",
    "\n",
    "#                 filepath = file_tpl.format(year=year, month=month, day=day, run=run, realisation=realisation, step=step)\n",
    "\n",
    "#                 # This is the shape our fundemental chunks / the data inside our files. \n",
    "#                 # The lazy array needs to know it's shape without reading anyfiles. So we tell it.\n",
    "#                 shape=(len(forecast_periods), grid_latitude_len, grid_longitude_len)\n",
    "\n",
    "#                 proxy = build_lazy_masked_array(shape, filepath, VAR_NAME)\n",
    "#                 timestep_collection.append(proxy)\n",
    "\n",
    "            # As we exit each inner loop we join the collected lazy arrays in to one array either by concatinating along an existing dimension\n",
    "            # Or but `stacking` to create a new dimension\n",
    "#             run_data = da.concatenate(timestep_collection,0) \n",
    "#             runs_collection.append(run_data)\n",
    "                \n",
    "    \n",
    "        realisation_data = da.stack(runs_collection, 0)\n",
    "        realisation_collection.append(realisation_data)\n",
    "    \n",
    "    return da.stack(realisation_collection, 0)\n",
    "                    \n",
    "data = build_data_array()\n",
    "data"
   ]
  },
  {
   "cell_type": "code",
   "execution_count": 7,
   "metadata": {},
   "outputs": [
    {
     "data": {
      "text/plain": [
       "dask.array<stack, shape=(23, 668, 48, 548, 421), dtype=float32, chunksize=(1, 1, 4, 548, 421)>"
      ]
     },
     "execution_count": 7,
     "metadata": {},
     "output_type": "execute_result"
    }
   ],
   "source": [
    "data"
   ]
  },
  {
   "cell_type": "code",
   "execution_count": 4,
   "metadata": {},
   "outputs": [
    {
     "ename": "SyntaxError",
     "evalue": "unexpected EOF while parsing (<ipython-input-4-e6f59b84ae1a>, line 17)",
     "output_type": "error",
     "traceback": [
      "\u001b[0;36m  File \u001b[0;32m\"<ipython-input-4-e6f59b84ae1a>\"\u001b[0;36m, line \u001b[0;32m17\u001b[0m\n\u001b[0;31m    da.concatenate(map(build_proxy_array_for_time_step, file_details for time_step in range(3,36+1,3) )\u001b[0m\n\u001b[0m                                                                                                       ^\u001b[0m\n\u001b[0;31mSyntaxError\u001b[0m\u001b[0;31m:\u001b[0m unexpected EOF while parsing\n"
     ]
    }
   ],
   "source": [
    "# def build_proxy_array_for_time_step(file_details):\n",
    "#     year, month, day, run_hr, realisation, time_step = file_details\n",
    "#     file_tpl = \"/s3/mogreps-uk/prods_op_mogreps-uk_{year:d}{month:02d}{day:02d}_{run_hr:02d}_{realisation:02d}_{time_step:03d}.nc\"\n",
    "#     grid_latitude_len = 548\n",
    "#     grid_longitude_len = 421\n",
    "    \n",
    "#     num_steps_in_file = 4 if step == 3 else 4 # First file in a run has an extra timestep\n",
    "#     forecast_periods = list(range(time_step, time_step+num_steps_in_file))\n",
    "#     filepath = file_tpl.format(year=year, month=month, day=day, run_hr=run_hr, realisation=realisation, time_step=time_step)\n",
    "\n",
    "#     # This is the shape our fundemental chunks i.e. the data inside our files. \n",
    "#     shape=(len(forecast_periods), grid_latitude_len, grid_longitude_len)\n",
    "\n",
    "#     return build_lazy_masked_array(shape, filepath, VAR_NAME)\n",
    "\n",
    "\n",
    "# da.concatenate(map(build_proxy_array_for_time_step, file_details for time_step in range(3,36+1,3) )"
   ]
  },
  {
   "cell_type": "markdown",
   "metadata": {},
   "source": [
    "We now have our data array. We can start accessing an processing the data immediately if we wished however it's useful to wrap it in a higher order object like an Iris Cube to allow higer order and geospacial aware functions."
   ]
  },
  {
   "cell_type": "code",
   "execution_count": 9,
   "metadata": {},
   "outputs": [
    {
     "name": "stdout",
     "output_type": "stream",
     "text": [
      "surface_air_pressure / (Pa)         (realisation: 23; forecast_refrance_time: 668; forecast_period: 48; grid_latitude: 548; grid_longitude: 421)\n",
      "     Dimension coordinates:\n",
      "          realisation                           x                           -                     -                  -                    -\n",
      "          forecast_refrance_time                -                           x                     -                  -                    -\n",
      "          forecast_period                       -                           -                     x                  -                    -\n",
      "          grid_latitude                         -                           -                     -                  x                    -\n",
      "          grid_longitude                        -                           -                     -                  -                    x\n"
     ]
    }
   ],
   "source": [
    "# Build a cube from our data array\n",
    "\n",
    "# Given a list of points and a name create a Iris DimCoord\n",
    "def points_to_coord(var_name, points, units=None, long_name=None, standard_name=None):\n",
    "    long_name = long_name if long_name else var_name\n",
    "    return iris.coords.DimCoord(\n",
    "        points=points,\n",
    "        standard_name=standard_name,\n",
    "        long_name=long_name if long_name else var_name,\n",
    "        var_name=var_name, units=units)\n",
    "\n",
    "# Here we cheat a little rather, than defining the lat and lon coord by hand I chose one file to represent them all and just read the coord info from that.\n",
    "with warnings.catch_warnings():\n",
    "    warnings.simplefilter(\"ignore\")\n",
    "    sample_cube = iris.load(os.path.join(BASE_PATH, \"prods_op_mogreps-uk_20130101_03_00_027.nc\"), VAR_NAME)[0]\n",
    "\n",
    "\n",
    "coords = [\n",
    "    points_to_coord('realisation', list(range(data.shape[0]))),\n",
    "    points_to_coord('forecast_refrance_time', list(range(3, data.shape[1]*12, 12)), units=Unit('hours since 2013-01-01', calendar='gregorian')),\n",
    "    points_to_coord('forecast_period', list(range(0,data.shape[2])), units=Unit('hours')),\n",
    "    sample_cube.coord('grid_latitude'),\n",
    "    sample_cube.coord('grid_longitude')\n",
    "]\n",
    "\n",
    "cube = iris.cube.Cube(\n",
    "        data=data,\n",
    "        standard_name=VAR_NAME,\n",
    "        long_name=VAR_NAME,\n",
    "        var_name=VAR_NAME,\n",
    "        units = Unit('Pa'),\n",
    "        dim_coords_and_dims=[(coord, i)for i, coord in enumerate(coords)])\n",
    "\n",
    "print(cube)"
   ]
  },
  {
   "cell_type": "code",
   "execution_count": 11,
   "metadata": {},
   "outputs": [
    {
     "data": {
      "text/plain": [
       "masked_array(\n",
       "  data=[[101867.25, 101864.625, 101861.875, ..., 100561.625, 100526.75,\n",
       "         100344.125],\n",
       "        [101908.75, 101906.25, 101903.625, ..., 100551.125, 100514.375,\n",
       "         100330.875],\n",
       "        [101959.875, 101957.625, 101955.125, ..., 100550.375, 100515.375,\n",
       "         100333.125],\n",
       "        ...,\n",
       "        [--, --, --, ..., --, --, --],\n",
       "        [--, --, --, ..., --, --, --],\n",
       "        [--, --, --, ..., --, --, --]],\n",
       "  mask=[[False, False, False, ..., False, False, False],\n",
       "        [False, False, False, ..., False, False, False],\n",
       "        [False, False, False, ..., False, False, False],\n",
       "        ...,\n",
       "        [ True,  True,  True, ...,  True,  True,  True],\n",
       "        [ True,  True,  True, ...,  True,  True,  True],\n",
       "        [ True,  True,  True, ...,  True,  True,  True]],\n",
       "  fill_value=1e+20)"
      ]
     },
     "execution_count": 11,
     "metadata": {},
     "output_type": "execute_result"
    }
   ],
   "source": [
    "# Access some data\n",
    "cube[:,1,2,10,:].data"
   ]
  },
  {
   "cell_type": "code",
   "execution_count": 12,
   "metadata": {},
   "outputs": [
    {
     "data": {
      "text/plain": [
       "'633.8GiB'"
      ]
     },
     "execution_count": 12,
     "metadata": {},
     "output_type": "execute_result"
    }
   ],
   "source": [
    "def human_bytes(num, suffix='B'):\n",
    "    for unit in ['','Ki','Mi','Gi','Ti','Pi','Ei','Zi']:\n",
    "        if abs(num) < 1024.0:\n",
    "            return \"%3.1f%s%s\" % (num, unit, suffix)\n",
    "        num /= 1024.0\n",
    "    return \"%.1f%s%s\" % (num, 'Yi', suffix)\n",
    "\n",
    "def estimate_cube_size(cube):\n",
    "    import functools\n",
    "    import operator\n",
    "    num_points = functools.reduce(operator.mul, cube.shape, 1)\n",
    "    return human_bytes((num_points * 32) / 8)\n",
    "\n",
    "# An estimates cubesize, not accurate but an intresting metric to gague size\n",
    "estimate_cube_size(data)"
   ]
  },
  {
   "cell_type": "code",
   "execution_count": 13,
   "metadata": {},
   "outputs": [
    {
     "data": {
      "text/plain": [
       "<cartopy.mpl.feature_artist.FeatureArtist at 0x7f1fa21c62e8>"
      ]
     },
     "execution_count": 13,
     "metadata": {},
     "output_type": "execute_result"
    },
    {
     "data": {
      "image/png": "[encoded data removed]",
      "text/plain": [
       "<matplotlib.figure.Figure at 0x7f1fa21c6780>"
      ]
     },
     "metadata": {},
     "output_type": "display_data"
    }
   ],
   "source": [
    "%matplotlib inline\n",
    "import cartopy.crs as ccrs\n",
    "import matplotlib.pyplot as plt\n",
    "\n",
    "import iris\n",
    "import iris.plot as iplt\n",
    "import iris.quickplot as qplt\n",
    "\n",
    "\n",
    "qplt.contourf(cube[0,0,0,:,:], 15, cmap='viridis')\n",
    "plt.gca().coastlines()\n"
   ]
  },
  {
   "cell_type": "code",
   "execution_count": null,
   "metadata": {},
   "outputs": [],
   "source": []
  }
 ],
 "metadata": {
  "kernelspec": {
   "display_name": "Python 3",
   "language": "python",
   "name": "python3"
  },
  "language_info": {
   "codemirror_mode": {
    "name": "ipython",
    "version": 3
   },
   "file_extension": ".py",
   "mimetype": "text/x-python",
   "name": "python",
   "nbconvert_exporter": "python",
   "pygments_lexer": "ipython3",
   "version": "3.6.4"
  }
 },
 "nbformat": 4,
 "nbformat_minor": 2
}
