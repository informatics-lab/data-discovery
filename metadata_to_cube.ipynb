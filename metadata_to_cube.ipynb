{
 "cells": [
  {
   "cell_type": "markdown",
   "metadata": {},
   "source": [
    "Lets load a cube from metadata alone. This is a proof of concept showing the potential of storing metadata seperately from cubes.\n",
    "\n",
    "The metadata here is json dumps of the original netcdf file headers. It could just as easily have come from a database query etc. There is a benefit here that the metadata is already on my local disk rather than requiring a database query.\n",
    "\n",
    "It is ~500 faster to load cubes in this way (almost entirely down to network traffic). 210s -> 0.4s.\n",
    "\n",
    "I don't bother adding attributes to the cube, because it messes up merging. It would be trivial to add all the attributes, and with a little thought we could add only the attributes that don't break the merge.\n",
    "\n",
    "I also haven't added cell methods, which are very important. I think it's easy though.\n",
    "\n",
    "There is a bug in this code. The notebook to generate this metdata only captures variable points where len(variable.shape) == 1. E.g. lat and lon points, but not data points. This is not correct - height is a scalar variable with len(variable.shape) == 0, and time_bnds is a variable with len(variable.shape) == 2, and both should have been captured. Easy to fix but again important."
   ]
  },
  {
   "cell_type": "code",
   "execution_count": 78,
   "metadata": {},
   "outputs": [],
   "source": [
    "import json\n",
    "import iris\n",
    "import dask.array as da"
   ]
  },
  {
   "cell_type": "code",
   "execution_count": 99,
   "metadata": {},
   "outputs": [
    {
     "name": "stdout",
     "output_type": "stream",
     "text": [
      "90\n"
     ]
    }
   ],
   "source": [
    "records= json.load(open('./metadata.json', 'r'))\n",
    "print(len(records))"
   ]
  },
  {
   "cell_type": "code",
   "execution_count": 4,
   "metadata": {},
   "outputs": [
    {
     "data": {
      "text/plain": [
       "{'bnds': {'name': 'bnds', 'size': 2, 'unlimited': False},\n",
       " 'lat': {'name': 'lat', 'size': 324, 'unlimited': False},\n",
       " 'lon': {'name': 'lon', 'size': 432, 'unlimited': False},\n",
       " 'time': {'name': 'time', 'size': 48, 'unlimited': True}}"
      ]
     },
     "execution_count": 4,
     "metadata": {},
     "output_type": "execute_result"
    }
   ],
   "source": [
    "records[0]['dimensions']"
   ]
  },
  {
   "cell_type": "code",
   "execution_count": 126,
   "metadata": {},
   "outputs": [
    {
     "name": "stdout",
     "output_type": "stream",
     "text": [
      "{'axis': 'Z', 'chartostring': 'True', 'datatype': 'float64', 'dimensions': '()', 'dtype': 'float64', 'long_name': 'height', 'mask': 'True', 'name': 'height', 'ndim': '0', 'positive': 'up', 'scale': 'True', 'shape': '()', 'size': '1.0', 'standard_name': 'height', 'units': 'm', 'points': [1.5]}\n"
     ]
    }
   ],
   "source": [
    "print(records[0]['variables']['height'])"
   ]
  },
  {
   "cell_type": "code",
   "execution_count": 125,
   "metadata": {},
   "outputs": [],
   "source": [
    "# fix bug in how the metadata was extracted\n",
    "# (code only got data for variables with len(shape) == 1, height has len(shape) 0)\n",
    "for record in records:\n",
    "    record['variables']['height'].update({'points': [1.5]})"
   ]
  },
  {
   "cell_type": "code",
   "execution_count": 40,
   "metadata": {},
   "outputs": [],
   "source": [
    "def variable_to_dimcoord(variable):\n",
    "    attrs = ['points', 'standard_name', 'long_name', 'var_name', 'units']\n",
    "    points = variable['points']\n",
    "    standard_name = variable['standard_name']\n",
    "    long_name = variable['long_name']\n",
    "    var_name = None #variable['var_name']\n",
    "    units = variable['units']\n",
    "    return iris.coords.DimCoord(\n",
    "        points=points,\n",
    "        standard_name=standard_name,\n",
    "        long_name=long_name,\n",
    "        var_name=var_name, units=units)\n",
    "    #bounds=None, attributes=None, coord_system=None, circular=False)\n"
   ]
  },
  {
   "cell_type": "code",
   "execution_count": 41,
   "metadata": {},
   "outputs": [],
   "source": [
    "lat = variable_to_dimcoord(records[0]['variables']['lat'])\n",
    "lon = variable_to_dimcoord(records[0]['variables']['lon'])"
   ]
  },
  {
   "cell_type": "code",
   "execution_count": 136,
   "metadata": {},
   "outputs": [],
   "source": [
    "def variable_to_cube(record, variable_name='tas'):\n",
    "    # bunch of evals in here because the export from netcdf just stringified everything\n",
    "    # obviously not a good way to re-import.\n",
    "    var = record['variables'][variable_name] # dictionary\n",
    "    dims = eval(var['dimensions']) # yeah yeah. it's a tuple of dim names\n",
    "    dim_coords = [variable_to_dimcoord(record['variables'][dim]) for dim in dims]\n",
    "    \n",
    "    # data object\n",
    "    shape = eval(var['shape'])\n",
    "    dtype = var['dtype']\n",
    "    path = record['filename']\n",
    "    data = iris.fileformats.netcdf.NetCDFDataProxy(\n",
    "        shape=shape,\n",
    "        dtype=dtype,\n",
    "        path=path,\n",
    "        variable_name=variable_name,\n",
    "        fill_value=None)\n",
    "    \n",
    "    \n",
    "    cube = iris.cube.Cube(\n",
    "        data=da.from_array(data, chunks=shape),\n",
    "        standard_name=var['standard_name'],\n",
    "        long_name=var['long_name'],\n",
    "        var_name=None,\n",
    "        units = var['units'],\n",
    "        dim_coords_and_dims=[(coord, i) for i, coord in enumerate(dim_coords)]\n",
    "        )\n",
    "    \n",
    "    return cube"
   ]
  },
  {
   "cell_type": "code",
   "execution_count": 137,
   "metadata": {},
   "outputs": [
    {
     "name": "stdout",
     "output_type": "stream",
     "text": [
      "CPU times: user 312 ms, sys: 0 ns, total: 312 ms\n",
      "Wall time: 371 ms\n"
     ]
    }
   ],
   "source": [
    "%%time\n",
    "c = iris.cube.CubeList([variable_to_cube(record) for record in records]).concatenate()"
   ]
  },
  {
   "cell_type": "code",
   "execution_count": 142,
   "metadata": {},
   "outputs": [
    {
     "name": "stdout",
     "output_type": "stream",
     "text": [
      "0: air_temperature / (K)               (time: 648; latitude: 324; longitude: 432)\n",
      "1: air_temperature / (K)               (time: 648; latitude: 324; longitude: 432)\n",
      "2: air_temperature / (K)               (time: 648; latitude: 324; longitude: 432)\n",
      "3: air_temperature / (K)               (time: 648; latitude: 324; longitude: 432)\n",
      "4: air_temperature / (K)               (time: 648; latitude: 324; longitude: 432)\n",
      "5: air_temperature / (K)               (time: 648; latitude: 324; longitude: 432)\n",
      "6: air_temperature / (K)               (time: 648; latitude: 324; longitude: 432)\n",
      "7: air_temperature / (K)               (time: 648; latitude: 324; longitude: 432)\n",
      "8: air_temperature / (K)               (time: 648; latitude: 324; longitude: 432)\n",
      "9: air_temperature / (K)               (time: 648; latitude: 324; longitude: 432)\n",
      "10: air_temperature / (K)               (time: 648; latitude: 324; longitude: 432)\n",
      "11: air_temperature / (K)               (time: 648; latitude: 324; longitude: 432)\n",
      "12: air_temperature / (K)               (time: 648; latitude: 324; longitude: 432)\n",
      "13: air_temperature / (K)               (time: 648; latitude: 324; longitude: 432)\n",
      "14: air_temperature / (K)               (time: 648; latitude: 324; longitude: 432)\n"
     ]
    }
   ],
   "source": [
    "print(c) # realization is only in the nc file as an attribute"
   ]
  },
  {
   "cell_type": "code",
   "execution_count": 139,
   "metadata": {},
   "outputs": [],
   "source": [
    "import warnings\n"
   ]
  },
  {
   "cell_type": "code",
   "execution_count": 140,
   "metadata": {},
   "outputs": [
    {
     "name": "stdout",
     "output_type": "stream",
     "text": [
      "CPU times: user 3.8 s, sys: 360 ms, total: 4.16 s\n",
      "Wall time: 3min 39s\n"
     ]
    }
   ],
   "source": [
    "%%time\n",
    "with warnings.catch_warnings():\n",
    "    warnings.simplefilter(\"ignore\")\n",
    "    c2 = iris.load([record['filename'] for record in records]).concatenate()"
   ]
  },
  {
   "cell_type": "code",
   "execution_count": 141,
   "metadata": {},
   "outputs": [
    {
     "name": "stdout",
     "output_type": "stream",
     "text": [
      "0: air_temperature / (K)               (time: 120; latitude: 324; longitude: 432)\n",
      "1: air_temperature / (K)               (time: 120; latitude: 324; longitude: 432)\n",
      "2: air_temperature / (K)               (time: 120; latitude: 324; longitude: 432)\n",
      "3: air_temperature / (K)               (time: 120; latitude: 324; longitude: 432)\n",
      "4: air_temperature / (K)               (time: 120; latitude: 324; longitude: 432)\n",
      "5: air_temperature / (K)               (time: 48; latitude: 324; longitude: 432)\n",
      "6: air_temperature / (K)               (time: 120; latitude: 324; longitude: 432)\n",
      "7: air_temperature / (K)               (time: 120; latitude: 324; longitude: 432)\n",
      "8: air_temperature / (K)               (time: 120; latitude: 324; longitude: 432)\n",
      "9: air_temperature / (K)               (time: 120; latitude: 324; longitude: 432)\n",
      "10: air_temperature / (K)               (time: 120; latitude: 324; longitude: 432)\n",
      "11: air_temperature / (K)               (time: 48; latitude: 324; longitude: 432)\n",
      "12: air_temperature / (K)               (time: 120; latitude: 324; longitude: 432)\n",
      "13: air_temperature / (K)               (time: 120; latitude: 324; longitude: 432)\n",
      "14: air_temperature / (K)               (time: 120; latitude: 324; longitude: 432)\n",
      "15: air_temperature / (K)               (time: 120; latitude: 324; longitude: 432)\n",
      "16: air_temperature / (K)               (time: 120; latitude: 324; longitude: 432)\n",
      "17: air_temperature / (K)               (time: 48; latitude: 324; longitude: 432)\n",
      "18: air_temperature / (K)               (time: 120; latitude: 324; longitude: 432)\n",
      "19: air_temperature / (K)               (time: 120; latitude: 324; longitude: 432)\n",
      "20: air_temperature / (K)               (time: 120; latitude: 324; longitude: 432)\n",
      "21: air_temperature / (K)               (time: 120; latitude: 324; longitude: 432)\n",
      "22: air_temperature / (K)               (time: 120; latitude: 324; longitude: 432)\n",
      "23: air_temperature / (K)               (time: 48; latitude: 324; longitude: 432)\n",
      "24: air_temperature / (K)               (time: 120; latitude: 324; longitude: 432)\n",
      "25: air_temperature / (K)               (time: 120; latitude: 324; longitude: 432)\n",
      "26: air_temperature / (K)               (time: 120; latitude: 324; longitude: 432)\n",
      "27: air_temperature / (K)               (time: 120; latitude: 324; longitude: 432)\n",
      "28: air_temperature / (K)               (time: 120; latitude: 324; longitude: 432)\n",
      "29: air_temperature / (K)               (time: 48; latitude: 324; longitude: 432)\n",
      "30: air_temperature / (K)               (time: 120; latitude: 324; longitude: 432)\n",
      "31: air_temperature / (K)               (time: 120; latitude: 324; longitude: 432)\n",
      "32: air_temperature / (K)               (time: 120; latitude: 324; longitude: 432)\n",
      "33: air_temperature / (K)               (time: 120; latitude: 324; longitude: 432)\n",
      "34: air_temperature / (K)               (time: 120; latitude: 324; longitude: 432)\n",
      "35: air_temperature / (K)               (time: 48; latitude: 324; longitude: 432)\n",
      "36: air_temperature / (K)               (time: 120; latitude: 324; longitude: 432)\n",
      "37: air_temperature / (K)               (time: 120; latitude: 324; longitude: 432)\n",
      "38: air_temperature / (K)               (time: 120; latitude: 324; longitude: 432)\n",
      "39: air_temperature / (K)               (time: 120; latitude: 324; longitude: 432)\n",
      "40: air_temperature / (K)               (time: 120; latitude: 324; longitude: 432)\n",
      "41: air_temperature / (K)               (time: 48; latitude: 324; longitude: 432)\n",
      "42: air_temperature / (K)               (time: 120; latitude: 324; longitude: 432)\n",
      "43: air_temperature / (K)               (time: 120; latitude: 324; longitude: 432)\n",
      "44: air_temperature / (K)               (time: 120; latitude: 324; longitude: 432)\n",
      "45: air_temperature / (K)               (time: 120; latitude: 324; longitude: 432)\n",
      "46: air_temperature / (K)               (time: 120; latitude: 324; longitude: 432)\n",
      "47: air_temperature / (K)               (time: 48; latitude: 324; longitude: 432)\n",
      "48: air_temperature / (K)               (time: 120; latitude: 324; longitude: 432)\n",
      "49: air_temperature / (K)               (time: 120; latitude: 324; longitude: 432)\n",
      "50: air_temperature / (K)               (time: 120; latitude: 324; longitude: 432)\n",
      "51: air_temperature / (K)               (time: 120; latitude: 324; longitude: 432)\n",
      "52: air_temperature / (K)               (time: 120; latitude: 324; longitude: 432)\n",
      "53: air_temperature / (K)               (time: 48; latitude: 324; longitude: 432)\n",
      "54: air_temperature / (K)               (time: 120; latitude: 324; longitude: 432)\n",
      "55: air_temperature / (K)               (time: 120; latitude: 324; longitude: 432)\n",
      "56: air_temperature / (K)               (time: 120; latitude: 324; longitude: 432)\n",
      "57: air_temperature / (K)               (time: 120; latitude: 324; longitude: 432)\n",
      "58: air_temperature / (K)               (time: 120; latitude: 324; longitude: 432)\n",
      "59: air_temperature / (K)               (time: 48; latitude: 324; longitude: 432)\n",
      "60: air_temperature / (K)               (time: 120; latitude: 324; longitude: 432)\n",
      "61: air_temperature / (K)               (time: 120; latitude: 324; longitude: 432)\n",
      "62: air_temperature / (K)               (time: 120; latitude: 324; longitude: 432)\n",
      "63: air_temperature / (K)               (time: 120; latitude: 324; longitude: 432)\n",
      "64: air_temperature / (K)               (time: 120; latitude: 324; longitude: 432)\n",
      "65: air_temperature / (K)               (time: 48; latitude: 324; longitude: 432)\n",
      "66: air_temperature / (K)               (time: 120; latitude: 324; longitude: 432)\n",
      "67: air_temperature / (K)               (time: 120; latitude: 324; longitude: 432)\n",
      "68: air_temperature / (K)               (time: 120; latitude: 324; longitude: 432)\n",
      "69: air_temperature / (K)               (time: 120; latitude: 324; longitude: 432)\n",
      "70: air_temperature / (K)               (time: 120; latitude: 324; longitude: 432)\n",
      "71: air_temperature / (K)               (time: 48; latitude: 324; longitude: 432)\n",
      "72: air_temperature / (K)               (time: 120; latitude: 324; longitude: 432)\n",
      "73: air_temperature / (K)               (time: 120; latitude: 324; longitude: 432)\n",
      "74: air_temperature / (K)               (time: 120; latitude: 324; longitude: 432)\n",
      "75: air_temperature / (K)               (time: 120; latitude: 324; longitude: 432)\n",
      "76: air_temperature / (K)               (time: 120; latitude: 324; longitude: 432)\n",
      "77: air_temperature / (K)               (time: 48; latitude: 324; longitude: 432)\n",
      "78: air_temperature / (K)               (time: 120; latitude: 324; longitude: 432)\n",
      "79: air_temperature / (K)               (time: 120; latitude: 324; longitude: 432)\n",
      "80: air_temperature / (K)               (time: 120; latitude: 324; longitude: 432)\n",
      "81: air_temperature / (K)               (time: 120; latitude: 324; longitude: 432)\n",
      "82: air_temperature / (K)               (time: 120; latitude: 324; longitude: 432)\n",
      "83: air_temperature / (K)               (time: 48; latitude: 324; longitude: 432)\n",
      "84: air_temperature / (K)               (time: 120; latitude: 324; longitude: 432)\n",
      "85: air_temperature / (K)               (time: 120; latitude: 324; longitude: 432)\n",
      "86: air_temperature / (K)               (time: 120; latitude: 324; longitude: 432)\n",
      "87: air_temperature / (K)               (time: 120; latitude: 324; longitude: 432)\n",
      "88: air_temperature / (K)               (time: 120; latitude: 324; longitude: 432)\n",
      "89: air_temperature / (K)               (time: 48; latitude: 324; longitude: 432)\n"
     ]
    }
   ],
   "source": [
    "print(c2) # iris won't concat as attributes differ (e.g. each nc file has a uuid :/)"
   ]
  },
  {
   "cell_type": "code",
   "execution_count": null,
   "metadata": {},
   "outputs": [],
   "source": []
  }
 ],
 "metadata": {
  "kernelspec": {
   "display_name": "Python 3",
   "language": "python",
   "name": "python3"
  },
  "language_info": {
   "codemirror_mode": {
    "name": "ipython",
    "version": 3
   },
   "file_extension": ".py",
   "mimetype": "text/x-python",
   "name": "python",
   "nbconvert_exporter": "python",
   "pygments_lexer": "ipython3",
   "version": "3.6.4"
  }
 },
 "nbformat": 4,
 "nbformat_minor": 2
}
